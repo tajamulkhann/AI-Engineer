{
 "cells": [
  {
   "cell_type": "markdown",
   "id": "9cdf91a1",
   "metadata": {},
   "source": [
    "# Agentic AI Practicals"
   ]
  },
  {
   "cell_type": "markdown",
   "id": "77fe01bd",
   "metadata": {},
   "source": [
    "## Pydantic\n",
    "\n",
    "Used for data validation"
   ]
  },
  {
   "cell_type": "markdown",
   "id": "0732b053",
   "metadata": {},
   "source": [
    "### 1. Using Basemodel from Pydantic for Data Validation"
   ]
  },
  {
   "cell_type": "code",
   "execution_count": 1,
   "id": "cecdf46a",
   "metadata": {},
   "outputs": [],
   "source": [
    "from pydantic import BaseModel\n",
    "class User(BaseModel):\n",
    "    name: str\n",
    "    age: int\n",
    "    email: str"
   ]
  },
  {
   "cell_type": "code",
   "execution_count": null,
   "id": "00cb2f6c",
   "metadata": {},
   "outputs": [
    {
     "name": "stdout",
     "output_type": "stream",
     "text": [
      "name='Tajamul' age=29 email='Tajamulk@gmail.com'\n"
     ]
    }
   ],
   "source": [
    "# Check with matching Data Types\n",
    "\n",
    "Me = User(name = \"Tajamul\", age = 29, email = \"Tajamulk@gmail.com\")\n",
    "print(Me)"
   ]
  },
  {
   "cell_type": "code",
   "execution_count": 5,
   "id": "675794fd",
   "metadata": {},
   "outputs": [
    {
     "ename": "ValidationError",
     "evalue": "1 validation error for User\nemail\n  Input should be a valid string [type=string_type, input_value=44, input_type=int]\n    For further information visit https://errors.pydantic.dev/2.11/v/string_type",
     "output_type": "error",
     "traceback": [
      "\u001b[31m---------------------------------------------------------------------------\u001b[39m",
      "\u001b[31mValidationError\u001b[39m                           Traceback (most recent call last)",
      "\u001b[36mCell\u001b[39m\u001b[36m \u001b[39m\u001b[32mIn[5]\u001b[39m\u001b[32m, line 3\u001b[39m\n\u001b[32m      1\u001b[39m \u001b[38;5;66;03m# Check with non matching Data Types\u001b[39;00m\n\u001b[32m----> \u001b[39m\u001b[32m3\u001b[39m Me = \u001b[43mUser\u001b[49m\u001b[43m(\u001b[49m\u001b[43mname\u001b[49m\u001b[43m \u001b[49m\u001b[43m=\u001b[49m\u001b[43m \u001b[49m\u001b[33;43m\"\u001b[39;49m\u001b[33;43mTajamul\u001b[39;49m\u001b[33;43m\"\u001b[39;49m\u001b[43m,\u001b[49m\u001b[43m \u001b[49m\u001b[43mage\u001b[49m\u001b[43m \u001b[49m\u001b[43m=\u001b[49m\u001b[43m \u001b[49m\u001b[32;43m29\u001b[39;49m\u001b[43m,\u001b[49m\u001b[43m \u001b[49m\u001b[43memail\u001b[49m\u001b[43m \u001b[49m\u001b[43m=\u001b[49m\u001b[43m \u001b[49m\u001b[32;43m44\u001b[39;49m\u001b[43m)\u001b[49m\n\u001b[32m      4\u001b[39m \u001b[38;5;28mprint\u001b[39m(Me)\n",
      "\u001b[36mFile \u001b[39m\u001b[32m~/Desktop/AgenticAI/venv/lib/python3.13/site-packages/pydantic/main.py:253\u001b[39m, in \u001b[36mBaseModel.__init__\u001b[39m\u001b[34m(self, **data)\u001b[39m\n\u001b[32m    251\u001b[39m \u001b[38;5;66;03m# `__tracebackhide__` tells pytest and some other tools to omit this function from tracebacks\u001b[39;00m\n\u001b[32m    252\u001b[39m __tracebackhide__ = \u001b[38;5;28;01mTrue\u001b[39;00m\n\u001b[32m--> \u001b[39m\u001b[32m253\u001b[39m validated_self = \u001b[38;5;28;43mself\u001b[39;49m\u001b[43m.\u001b[49m\u001b[43m__pydantic_validator__\u001b[49m\u001b[43m.\u001b[49m\u001b[43mvalidate_python\u001b[49m\u001b[43m(\u001b[49m\u001b[43mdata\u001b[49m\u001b[43m,\u001b[49m\u001b[43m \u001b[49m\u001b[43mself_instance\u001b[49m\u001b[43m=\u001b[49m\u001b[38;5;28;43mself\u001b[39;49m\u001b[43m)\u001b[49m\n\u001b[32m    254\u001b[39m \u001b[38;5;28;01mif\u001b[39;00m \u001b[38;5;28mself\u001b[39m \u001b[38;5;129;01mis\u001b[39;00m \u001b[38;5;129;01mnot\u001b[39;00m validated_self:\n\u001b[32m    255\u001b[39m     warnings.warn(\n\u001b[32m    256\u001b[39m         \u001b[33m'\u001b[39m\u001b[33mA custom validator is returning a value other than `self`.\u001b[39m\u001b[38;5;130;01m\\n\u001b[39;00m\u001b[33m'\u001b[39m\n\u001b[32m    257\u001b[39m         \u001b[33m\"\u001b[39m\u001b[33mReturning anything other than `self` from a top level model validator isn\u001b[39m\u001b[33m'\u001b[39m\u001b[33mt supported when validating via `__init__`.\u001b[39m\u001b[38;5;130;01m\\n\u001b[39;00m\u001b[33m\"\u001b[39m\n\u001b[32m    258\u001b[39m         \u001b[33m'\u001b[39m\u001b[33mSee the `model_validator` docs (https://docs.pydantic.dev/latest/concepts/validators/#model-validators) for more details.\u001b[39m\u001b[33m'\u001b[39m,\n\u001b[32m    259\u001b[39m         stacklevel=\u001b[32m2\u001b[39m,\n\u001b[32m    260\u001b[39m     )\n",
      "\u001b[31mValidationError\u001b[39m: 1 validation error for User\nemail\n  Input should be a valid string [type=string_type, input_value=44, input_type=int]\n    For further information visit https://errors.pydantic.dev/2.11/v/string_type"
     ]
    }
   ],
   "source": [
    "# Check with non matching Data Types\n",
    "\n",
    "Me = User(name = \"Tajamul\", age = 29, email = 44)\n",
    "print(Me)"
   ]
  },
  {
   "cell_type": "markdown",
   "id": "595afb79",
   "metadata": {},
   "source": [
    "### 2. Optional Variable\n",
    "\n",
    "- Optional[type]: Indicates the field can be None\n",
    "\n",
    "- Default value (= None or = True): Makes the field optional\n",
    "\n",
    "- Required fields must still be provided\n",
    "\n",
    "- Pydantic validates types even for optional fields when values are provided"
   ]
  },
  {
   "cell_type": "code",
   "execution_count": 14,
   "id": "d790fbff",
   "metadata": {},
   "outputs": [],
   "source": [
    "from typing import Optional\n",
    "\n",
    "class User(BaseModel):\n",
    "    name: str\n",
    "    age: int\n",
    "    email: str\n",
    "    salary: Optional[int] = None\n",
    "    is_active: Optional[bool] = False"
   ]
  },
  {
   "cell_type": "code",
   "execution_count": 15,
   "id": "392f6431",
   "metadata": {},
   "outputs": [
    {
     "name": "stdout",
     "output_type": "stream",
     "text": [
      "name='Tajamul' age=29 email='Tajamulk@gmail.com' salary=30000 is_active=False\n"
     ]
    }
   ],
   "source": [
    "Me = User(name = \"Tajamul\", age = 29, email = \"Tajamulk@gmail.com\", salary=30000)\n",
    "\n",
    "print(Me)"
   ]
  },
  {
   "cell_type": "markdown",
   "id": "12998ca7",
   "metadata": {},
   "source": [
    "### List"
   ]
  },
  {
   "cell_type": "code",
   "execution_count": 29,
   "id": "98bc835c",
   "metadata": {},
   "outputs": [],
   "source": [
    "from typing import List\n",
    "\n",
    "class User(BaseModel):\n",
    "    name: str\n",
    "    age: int\n",
    "    letters: List[str]"
   ]
  },
  {
   "cell_type": "code",
   "execution_count": 33,
   "id": "d01161b0",
   "metadata": {},
   "outputs": [
    {
     "name": "stdout",
     "output_type": "stream",
     "text": [
      "name='Tajamul' age=29 letters=['a', 'b']\n"
     ]
    }
   ],
   "source": [
    "Me = User(name = \"Tajamul\", age = 29, letters =[\"a\", \"b\"])\n",
    "print(Me)"
   ]
  },
  {
   "cell_type": "markdown",
   "id": "ae82d338",
   "metadata": {},
   "source": [
    "### Try Catch "
   ]
  },
  {
   "cell_type": "code",
   "execution_count": 39,
   "id": "2dc361ad",
   "metadata": {},
   "outputs": [
    {
     "name": "stdout",
     "output_type": "stream",
     "text": [
      "1 validation error for User\n",
      "letters.2\n",
      "  Input should be a valid string [type=string_type, input_value=1, input_type=int]\n",
      "    For further information visit https://errors.pydantic.dev/2.11/v/string_type\n"
     ]
    }
   ],
   "source": [
    "try:\n",
    "    Me = User(name = \"Tajamul\", age = 29, letters =[\"a\", \"b\", 1])\n",
    "except Exception as e:\n",
    "    print(e)"
   ]
  },
  {
   "cell_type": "markdown",
   "id": "1354717e",
   "metadata": {},
   "source": [
    "### Nested Data Models"
   ]
  },
  {
   "cell_type": "code",
   "execution_count": 40,
   "id": "1756e9b3",
   "metadata": {},
   "outputs": [],
   "source": [
    "class User(BaseModel):\n",
    "    name: str\n",
    "    age: int\n",
    "\n",
    "class Details(BaseModel):\n",
    "    Job_title: str\n",
    "    salary: int\n",
    "    user: User"
   ]
  },
  {
   "cell_type": "code",
   "execution_count": 43,
   "id": "bae38007",
   "metadata": {},
   "outputs": [
    {
     "name": "stdout",
     "output_type": "stream",
     "text": [
      "Job_title='Software Engineer' salary=30000 user=User(name='Tajamul', age=29)\n"
     ]
    }
   ],
   "source": [
    "me = Details(Job_title = \"Software Engineer\", salary=30000, \n",
    "user= User(name = \"Tajamul\", age = 29))\n",
    "\n",
    "print(me)"
   ]
  },
  {
   "cell_type": "markdown",
   "id": "23991051",
   "metadata": {},
   "source": [
    "### Pydantic Fields"
   ]
  },
  {
   "cell_type": "code",
   "execution_count": 16,
   "id": "8204fb6e",
   "metadata": {},
   "outputs": [
    {
     "name": "stdout",
     "output_type": "stream",
     "text": [
      "name='Tajamul' age=19 address=None\n"
     ]
    }
   ],
   "source": [
    "from pydantic import BaseModel, Field\n",
    "from typing import Optional\n",
    "\n",
    "class User(BaseModel):\n",
    "    name: str = Field(min_length=3)\n",
    "    age: int = Field(gt=18)\n",
    "    address: Optional[str] = Field(None, max_length=50)\n",
    "\n",
    "me = User(name=\"Tajamul\", age=19)\n",
    "print(me)"
   ]
  },
  {
   "cell_type": "markdown",
   "id": "f8c20e7a",
   "metadata": {},
   "source": [
    "Field Description"
   ]
  },
  {
   "cell_type": "code",
   "execution_count": 23,
   "id": "88eed783",
   "metadata": {},
   "outputs": [
    {
     "name": "stdout",
     "output_type": "stream",
     "text": [
      "name='Tajamul' age=18 email='user@gmail.com'\n"
     ]
    }
   ],
   "source": [
    "class User(BaseModel):\n",
    "    name: str = Field(min_length=3, description=\"Name of the user\")\n",
    "    age: int = Field(default=18)\n",
    "    email: str = Field(default=\"user@gmail.com\")\n",
    "\n",
    "me = User(name=\"Tajamul\")\n",
    "print(me)"
   ]
  },
  {
   "cell_type": "code",
   "execution_count": 26,
   "id": "77a44de9",
   "metadata": {},
   "outputs": [
    {
     "data": {
      "text/plain": [
       "{'properties': {'name': {'description': 'Name of the user',\n",
       "   'minLength': 3,\n",
       "   'title': 'Name',\n",
       "   'type': 'string'},\n",
       "  'age': {'default': 18, 'title': 'Age', 'type': 'integer'},\n",
       "  'email': {'default': 'user@gmail.com', 'title': 'Email', 'type': 'string'}},\n",
       " 'required': ['name'],\n",
       " 'title': 'User',\n",
       " 'type': 'object'}"
      ]
     },
     "execution_count": 26,
     "metadata": {},
     "output_type": "execute_result"
    }
   ],
   "source": [
    "User.model_json_schema()"
   ]
  }
 ],
 "metadata": {
  "kernelspec": {
   "display_name": "venv",
   "language": "python",
   "name": "python3"
  },
  "language_info": {
   "codemirror_mode": {
    "name": "ipython",
    "version": 3
   },
   "file_extension": ".py",
   "mimetype": "text/x-python",
   "name": "python",
   "nbconvert_exporter": "python",
   "pygments_lexer": "ipython3",
   "version": "3.13.0"
  }
 },
 "nbformat": 4,
 "nbformat_minor": 5
}
